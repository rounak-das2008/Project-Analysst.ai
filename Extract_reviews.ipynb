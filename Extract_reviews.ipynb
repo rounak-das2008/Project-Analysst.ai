{
 "cells": [
  {
   "cell_type": "code",
   "execution_count": 1,
   "id": "b5c32ae9",
   "metadata": {},
   "outputs": [],
   "source": [
    "import pandas as pd\n",
    "from textblob import TextBlob"
   ]
  },
  {
   "cell_type": "code",
   "execution_count": 2,
   "id": "e88b1834",
   "metadata": {},
   "outputs": [
    {
     "name": "stderr",
     "output_type": "stream",
     "text": [
      "/var/folders/t3/tyl830xn3bz3l5tz9hv_2lzr0000gn/T/ipykernel_22099/532966513.py:1: DtypeWarning: Columns (1,2) have mixed types. Specify dtype option on import or set low_memory=False.\n",
      "  data = pd.read_csv('amazondata.csv')\n"
     ]
    }
   ],
   "source": [
    "data = pd.read_csv('amazondata.csv')"
   ]
  },
  {
   "cell_type": "code",
   "execution_count": 3,
   "id": "f86387da",
   "metadata": {},
   "outputs": [
    {
     "data": {
      "text/html": [
       "<div>\n",
       "<style scoped>\n",
       "    .dataframe tbody tr th:only-of-type {\n",
       "        vertical-align: middle;\n",
       "    }\n",
       "\n",
       "    .dataframe tbody tr th {\n",
       "        vertical-align: top;\n",
       "    }\n",
       "\n",
       "    .dataframe thead th {\n",
       "        text-align: right;\n",
       "    }\n",
       "</style>\n",
       "<table border=\"1\" class=\"dataframe\">\n",
       "  <thead>\n",
       "    <tr style=\"text-align: right;\">\n",
       "      <th></th>\n",
       "      <th>Helpful Votes (bin)</th>\n",
       "      <th>Number of Records</th>\n",
       "      <th>Star Rating (bin)</th>\n",
       "      <th>Customer Id</th>\n",
       "      <th>Helpful Votes</th>\n",
       "      <th>Overall Votes</th>\n",
       "      <th>Product Id</th>\n",
       "      <th>Review Body</th>\n",
       "      <th>Review Year</th>\n",
       "      <th>Review Headline</th>\n",
       "      <th>Star Rating</th>\n",
       "    </tr>\n",
       "  </thead>\n",
       "  <tbody>\n",
       "    <tr>\n",
       "      <th>0</th>\n",
       "      <td>0</td>\n",
       "      <td>1</td>\n",
       "      <td>0.0</td>\n",
       "      <td>NaN</td>\n",
       "      <td>4.0</td>\n",
       "      <td>14.0</td>\n",
       "      <td>26009102</td>\n",
       "      <td>You will love this book.  It is a hard long re...</td>\n",
       "      <td>03/17/2005 0:00</td>\n",
       "      <td>Best Book Ever</td>\n",
       "      <td>5.0</td>\n",
       "    </tr>\n",
       "    <tr>\n",
       "      <th>1</th>\n",
       "      <td>NaN</td>\n",
       "      <td>1</td>\n",
       "      <td>NaN</td>\n",
       "      <td>NaN</td>\n",
       "      <td>NaN</td>\n",
       "      <td>NaN</td>\n",
       "      <td>7491727</td>\n",
       "      <td>This is the UK edition of Dr. Omit's book. Dr....</td>\n",
       "      <td>NaN</td>\n",
       "      <td>researchers from John Hopkins School of Medici...</td>\n",
       "      <td>NaN</td>\n",
       "    </tr>\n",
       "    <tr>\n",
       "      <th>2</th>\n",
       "      <td>0</td>\n",
       "      <td>1</td>\n",
       "      <td>0.0</td>\n",
       "      <td>NaN</td>\n",
       "      <td>2.0</td>\n",
       "      <td>2.0</td>\n",
       "      <td>002782683X</td>\n",
       "      <td>This is a fun and entertaining book about lear...</td>\n",
       "      <td>06/25/2012 0:00</td>\n",
       "      <td>Michelle</td>\n",
       "      <td>5.0</td>\n",
       "    </tr>\n",
       "    <tr>\n",
       "      <th>3</th>\n",
       "      <td>0</td>\n",
       "      <td>1</td>\n",
       "      <td>0.0</td>\n",
       "      <td>NaN</td>\n",
       "      <td>0.0</td>\n",
       "      <td>0.0</td>\n",
       "      <td>60187271</td>\n",
       "      <td>Started a big slow, but once into it the autho...</td>\n",
       "      <td>06/09/2013 0:00</td>\n",
       "      <td>Loved the book</td>\n",
       "      <td>5.0</td>\n",
       "    </tr>\n",
       "    <tr>\n",
       "      <th>4</th>\n",
       "      <td>0</td>\n",
       "      <td>1</td>\n",
       "      <td>0.0</td>\n",
       "      <td>NaN</td>\n",
       "      <td>14.0</td>\n",
       "      <td>20.0</td>\n",
       "      <td>60392452</td>\n",
       "      <td>Received this book as a Christmas present. I h...</td>\n",
       "      <td>08/05/2003 0:00</td>\n",
       "      <td>Challenges your assumptions</td>\n",
       "      <td>4.0</td>\n",
       "    </tr>\n",
       "  </tbody>\n",
       "</table>\n",
       "</div>"
      ],
      "text/plain": [
       "  Helpful Votes (bin) Number of Records Star Rating (bin)  Customer Id  \\\n",
       "0                   0                 1               0.0          NaN   \n",
       "1                 NaN                 1               NaN          NaN   \n",
       "2                   0                 1               0.0          NaN   \n",
       "3                   0                 1               0.0          NaN   \n",
       "4                   0                 1               0.0          NaN   \n",
       "\n",
       "   Helpful Votes  Overall Votes  Product Id  \\\n",
       "0            4.0           14.0    26009102   \n",
       "1            NaN            NaN     7491727   \n",
       "2            2.0            2.0  002782683X   \n",
       "3            0.0            0.0    60187271   \n",
       "4           14.0           20.0    60392452   \n",
       "\n",
       "                                         Review Body      Review Year  \\\n",
       "0  You will love this book.  It is a hard long re...  03/17/2005 0:00   \n",
       "1  This is the UK edition of Dr. Omit's book. Dr....              NaN   \n",
       "2  This is a fun and entertaining book about lear...  06/25/2012 0:00   \n",
       "3  Started a big slow, but once into it the autho...  06/09/2013 0:00   \n",
       "4  Received this book as a Christmas present. I h...  08/05/2003 0:00   \n",
       "\n",
       "                                     Review Headline  Star Rating  \n",
       "0                                     Best Book Ever          5.0  \n",
       "1  researchers from John Hopkins School of Medici...          NaN  \n",
       "2                                           Michelle          5.0  \n",
       "3                                     Loved the book          5.0  \n",
       "4                        Challenges your assumptions          4.0  "
      ]
     },
     "execution_count": 3,
     "metadata": {},
     "output_type": "execute_result"
    }
   ],
   "source": [
    "data.head()"
   ]
  },
  {
   "cell_type": "code",
   "execution_count": 5,
   "id": "150427fb",
   "metadata": {},
   "outputs": [
    {
     "data": {
      "text/plain": [
       "(128845, 11)"
      ]
     },
     "execution_count": 5,
     "metadata": {},
     "output_type": "execute_result"
    }
   ],
   "source": [
    "data.shape"
   ]
  },
  {
   "cell_type": "code",
   "execution_count": 5,
   "id": "0b60a327",
   "metadata": {},
   "outputs": [],
   "source": [
    "new_data = data[['Helpful Votes','Review Body', 'Review Year', 'Review Headline', 'Star Rating']]"
   ]
  },
  {
   "cell_type": "code",
   "execution_count": 6,
   "id": "aa29a579",
   "metadata": {},
   "outputs": [
    {
     "data": {
      "text/html": [
       "<div>\n",
       "<style scoped>\n",
       "    .dataframe tbody tr th:only-of-type {\n",
       "        vertical-align: middle;\n",
       "    }\n",
       "\n",
       "    .dataframe tbody tr th {\n",
       "        vertical-align: top;\n",
       "    }\n",
       "\n",
       "    .dataframe thead th {\n",
       "        text-align: right;\n",
       "    }\n",
       "</style>\n",
       "<table border=\"1\" class=\"dataframe\">\n",
       "  <thead>\n",
       "    <tr style=\"text-align: right;\">\n",
       "      <th></th>\n",
       "      <th>Helpful Votes</th>\n",
       "      <th>Review Body</th>\n",
       "      <th>Review Year</th>\n",
       "      <th>Review Headline</th>\n",
       "      <th>Star Rating</th>\n",
       "    </tr>\n",
       "  </thead>\n",
       "  <tbody>\n",
       "    <tr>\n",
       "      <th>0</th>\n",
       "      <td>4.0</td>\n",
       "      <td>You will love this book.  It is a hard long re...</td>\n",
       "      <td>03/17/2005 0:00</td>\n",
       "      <td>Best Book Ever</td>\n",
       "      <td>5.0</td>\n",
       "    </tr>\n",
       "    <tr>\n",
       "      <th>1</th>\n",
       "      <td>NaN</td>\n",
       "      <td>This is the UK edition of Dr. Omit's book. Dr....</td>\n",
       "      <td>NaN</td>\n",
       "      <td>researchers from John Hopkins School of Medici...</td>\n",
       "      <td>NaN</td>\n",
       "    </tr>\n",
       "    <tr>\n",
       "      <th>2</th>\n",
       "      <td>2.0</td>\n",
       "      <td>This is a fun and entertaining book about lear...</td>\n",
       "      <td>06/25/2012 0:00</td>\n",
       "      <td>Michelle</td>\n",
       "      <td>5.0</td>\n",
       "    </tr>\n",
       "    <tr>\n",
       "      <th>3</th>\n",
       "      <td>0.0</td>\n",
       "      <td>Started a big slow, but once into it the autho...</td>\n",
       "      <td>06/09/2013 0:00</td>\n",
       "      <td>Loved the book</td>\n",
       "      <td>5.0</td>\n",
       "    </tr>\n",
       "    <tr>\n",
       "      <th>4</th>\n",
       "      <td>14.0</td>\n",
       "      <td>Received this book as a Christmas present. I h...</td>\n",
       "      <td>08/05/2003 0:00</td>\n",
       "      <td>Challenges your assumptions</td>\n",
       "      <td>4.0</td>\n",
       "    </tr>\n",
       "  </tbody>\n",
       "</table>\n",
       "</div>"
      ],
      "text/plain": [
       "   Helpful Votes                                        Review Body  \\\n",
       "0            4.0  You will love this book.  It is a hard long re...   \n",
       "1            NaN  This is the UK edition of Dr. Omit's book. Dr....   \n",
       "2            2.0  This is a fun and entertaining book about lear...   \n",
       "3            0.0  Started a big slow, but once into it the autho...   \n",
       "4           14.0  Received this book as a Christmas present. I h...   \n",
       "\n",
       "       Review Year                                    Review Headline  \\\n",
       "0  03/17/2005 0:00                                     Best Book Ever   \n",
       "1              NaN  researchers from John Hopkins School of Medici...   \n",
       "2  06/25/2012 0:00                                           Michelle   \n",
       "3  06/09/2013 0:00                                     Loved the book   \n",
       "4  08/05/2003 0:00                        Challenges your assumptions   \n",
       "\n",
       "   Star Rating  \n",
       "0          5.0  \n",
       "1          NaN  \n",
       "2          5.0  \n",
       "3          5.0  \n",
       "4          4.0  "
      ]
     },
     "execution_count": 6,
     "metadata": {},
     "output_type": "execute_result"
    }
   ],
   "source": [
    "new_data.head()"
   ]
  },
  {
   "cell_type": "code",
   "execution_count": 7,
   "id": "cbdf3116",
   "metadata": {},
   "outputs": [
    {
     "data": {
      "text/plain": [
       "(128845, 5)"
      ]
     },
     "execution_count": 7,
     "metadata": {},
     "output_type": "execute_result"
    }
   ],
   "source": [
    "new_data.shape"
   ]
  },
  {
   "cell_type": "code",
   "execution_count": 8,
   "id": "03a682ec",
   "metadata": {},
   "outputs": [
    {
     "data": {
      "text/html": [
       "<div>\n",
       "<style scoped>\n",
       "    .dataframe tbody tr th:only-of-type {\n",
       "        vertical-align: middle;\n",
       "    }\n",
       "\n",
       "    .dataframe tbody tr th {\n",
       "        vertical-align: top;\n",
       "    }\n",
       "\n",
       "    .dataframe thead th {\n",
       "        text-align: right;\n",
       "    }\n",
       "</style>\n",
       "<table border=\"1\" class=\"dataframe\">\n",
       "  <thead>\n",
       "    <tr style=\"text-align: right;\">\n",
       "      <th></th>\n",
       "      <th>Helpful Votes</th>\n",
       "      <th>Review Body</th>\n",
       "      <th>Review Year</th>\n",
       "      <th>Review Headline</th>\n",
       "      <th>Star Rating</th>\n",
       "    </tr>\n",
       "  </thead>\n",
       "  <tbody>\n",
       "    <tr>\n",
       "      <th>95353</th>\n",
       "      <td>0.0</td>\n",
       "      <td>The first two books of the series were simply ...</td>\n",
       "      <td>11/19/2013 0:00</td>\n",
       "      <td>Must read, but not for all the right reasons</td>\n",
       "      <td>3.0</td>\n",
       "    </tr>\n",
       "    <tr>\n",
       "      <th>60920</th>\n",
       "      <td>6.0</td>\n",
       "      <td>&amp;quot;The Bonesetter's Daughter&amp;quot; is a sto...</td>\n",
       "      <td>04/17/2001 0:00</td>\n",
       "      <td>A sincere portayal of strong, maternal love.</td>\n",
       "      <td>5.0</td>\n",
       "    </tr>\n",
       "    <tr>\n",
       "      <th>1478</th>\n",
       "      <td>0.0</td>\n",
       "      <td>Received on time and as described. Will use ag...</td>\n",
       "      <td>08/30/2015 0:00</td>\n",
       "      <td>Five Stars</td>\n",
       "      <td>5.0</td>\n",
       "    </tr>\n",
       "    <tr>\n",
       "      <th>115560</th>\n",
       "      <td>0.0</td>\n",
       "      <td>my nephew loved it.</td>\n",
       "      <td>08/27/2015 0:00</td>\n",
       "      <td>Five Stars</td>\n",
       "      <td>5.0</td>\n",
       "    </tr>\n",
       "    <tr>\n",
       "      <th>35823</th>\n",
       "      <td>3.0</td>\n",
       "      <td>I didn't enjoy this one as much as The Other B...</td>\n",
       "      <td>01/12/2006 0:00</td>\n",
       "      <td>Another hit!</td>\n",
       "      <td>4.0</td>\n",
       "    </tr>\n",
       "  </tbody>\n",
       "</table>\n",
       "</div>"
      ],
      "text/plain": [
       "        Helpful Votes                                        Review Body  \\\n",
       "95353             0.0  The first two books of the series were simply ...   \n",
       "60920             6.0  &quot;The Bonesetter's Daughter&quot; is a sto...   \n",
       "1478              0.0  Received on time and as described. Will use ag...   \n",
       "115560            0.0                                my nephew loved it.   \n",
       "35823             3.0  I didn't enjoy this one as much as The Other B...   \n",
       "\n",
       "            Review Year                               Review Headline  \\\n",
       "95353   11/19/2013 0:00  Must read, but not for all the right reasons   \n",
       "60920   04/17/2001 0:00  A sincere portayal of strong, maternal love.   \n",
       "1478    08/30/2015 0:00                                    Five Stars   \n",
       "115560  08/27/2015 0:00                                    Five Stars   \n",
       "35823   01/12/2006 0:00                                  Another hit!   \n",
       "\n",
       "        Star Rating  \n",
       "95353           3.0  \n",
       "60920           5.0  \n",
       "1478            5.0  \n",
       "115560          5.0  \n",
       "35823           4.0  "
      ]
     },
     "execution_count": 8,
     "metadata": {},
     "output_type": "execute_result"
    }
   ],
   "source": [
    "store_data = new_data.sample(1000)\n",
    "store_data.head()"
   ]
  },
  {
   "cell_type": "code",
   "execution_count": 10,
   "id": "89805c5e",
   "metadata": {},
   "outputs": [],
   "source": [
    "store_data.to_csv('Reviews_data.csv', index=False)"
   ]
  },
  {
   "cell_type": "code",
   "execution_count": null,
   "id": "120949ba",
   "metadata": {},
   "outputs": [],
   "source": []
  }
 ],
 "metadata": {
  "kernelspec": {
   "display_name": "Python 3 (ipykernel)",
   "language": "python",
   "name": "python3"
  },
  "language_info": {
   "codemirror_mode": {
    "name": "ipython",
    "version": 3
   },
   "file_extension": ".py",
   "mimetype": "text/x-python",
   "name": "python",
   "nbconvert_exporter": "python",
   "pygments_lexer": "ipython3",
   "version": "3.9.6"
  }
 },
 "nbformat": 4,
 "nbformat_minor": 5
}
